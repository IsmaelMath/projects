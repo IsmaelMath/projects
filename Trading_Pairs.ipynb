{
 "cells": [
  {
   "cell_type": "code",
   "execution_count": 1,
   "id": "91bbb924",
   "metadata": {},
   "outputs": [],
   "source": [
    "from datetime import datetime\n",
    "import pandas as pd\n",
    "import matplotlib.pyplot as plt\n",
    "import numpy as np\n",
    "import yfinance as yf"
   ]
  },
  {
   "cell_type": "code",
   "execution_count": 2,
   "id": "1e3d1e69",
   "metadata": {},
   "outputs": [],
   "source": [
    "data = pd.read_csv(\"/home/quant/Documents/Books_Python_I_Books_Finance/Analises/PETR4_SEMANAL/Petr4-Monday.csv\")"
   ]
  },
  {
   "cell_type": "code",
   "execution_count": 3,
   "id": "f2b4907f",
   "metadata": {},
   "outputs": [],
   "source": [
    "data['Sinal de Compra'] = np.where((data['Open'] > data['Close'].shift(+1)) & (data['Close'] > data['Close'].shift(+1)), 1.0, 0.0)"
   ]
  },
  {
   "cell_type": "code",
   "execution_count": 4,
   "id": "287ebbfc",
   "metadata": {},
   "outputs": [
    {
     "name": "stdout",
     "output_type": "stream",
     "text": [
      "Número de sinais:  647\n",
      "Número total de trading:  578.0\n",
      "Probabilidade:  89.3353941267388\n"
     ]
    }
   ],
   "source": [
    "data['Sinal de Venda'] = np.where((data['Open'] < data['Close'].shift(+1)) & (data['Close'] < data['Close'].shift(+1)), -1.0, 0.0)\n",
    "\n",
    "TotalSignal = data['Sinal de Compra'].sum() + (data['Sinal de Venda'].sum()*-1)\n",
    "Tradingdays = data['Close'].count()\n",
    "\n",
    "prob = (TotalSignal/Tradingdays)*100\n",
    "\n",
    "print (\"Número de sinais: \", Tradingdays)\n",
    "print (\"Número total de trading: \", TotalSignal)\n",
    "print (\"Probabilidade: \", prob)"
   ]
  },
  {
   "cell_type": "code",
   "execution_count": 5,
   "id": "08e9a336",
   "metadata": {},
   "outputs": [
    {
     "data": {
      "text/html": [
       "<div>\n",
       "<style scoped>\n",
       "    .dataframe tbody tr th:only-of-type {\n",
       "        vertical-align: middle;\n",
       "    }\n",
       "\n",
       "    .dataframe tbody tr th {\n",
       "        vertical-align: top;\n",
       "    }\n",
       "\n",
       "    .dataframe thead th {\n",
       "        text-align: right;\n",
       "    }\n",
       "</style>\n",
       "<table border=\"1\" class=\"dataframe\">\n",
       "  <thead>\n",
       "    <tr style=\"text-align: right;\">\n",
       "      <th></th>\n",
       "      <th>Unnamed: 0</th>\n",
       "      <th>Date</th>\n",
       "      <th>Open</th>\n",
       "      <th>High</th>\n",
       "      <th>Low</th>\n",
       "      <th>Close</th>\n",
       "      <th>Adj Close</th>\n",
       "      <th>Volume</th>\n",
       "      <th>SEMANA</th>\n",
       "      <th>Sinal de Compra</th>\n",
       "      <th>Sinal de Venda</th>\n",
       "    </tr>\n",
       "  </thead>\n",
       "  <tbody>\n",
       "    <tr>\n",
       "      <th>642</th>\n",
       "      <td>3211</td>\n",
       "      <td>2022-12-12</td>\n",
       "      <td>24.580000</td>\n",
       "      <td>24.660000</td>\n",
       "      <td>23.129999</td>\n",
       "      <td>23.910000</td>\n",
       "      <td>23.910000</td>\n",
       "      <td>111293100</td>\n",
       "      <td>Monday</td>\n",
       "      <td>0.0</td>\n",
       "      <td>-1.0</td>\n",
       "    </tr>\n",
       "    <tr>\n",
       "      <th>643</th>\n",
       "      <td>3216</td>\n",
       "      <td>2022-12-19</td>\n",
       "      <td>22.100000</td>\n",
       "      <td>22.510000</td>\n",
       "      <td>21.639999</td>\n",
       "      <td>22.379999</td>\n",
       "      <td>22.379999</td>\n",
       "      <td>63074100</td>\n",
       "      <td>Monday</td>\n",
       "      <td>0.0</td>\n",
       "      <td>-1.0</td>\n",
       "    </tr>\n",
       "    <tr>\n",
       "      <th>644</th>\n",
       "      <td>3221</td>\n",
       "      <td>2022-12-26</td>\n",
       "      <td>25.120001</td>\n",
       "      <td>25.299999</td>\n",
       "      <td>24.820000</td>\n",
       "      <td>24.940001</td>\n",
       "      <td>24.940001</td>\n",
       "      <td>28765200</td>\n",
       "      <td>Monday</td>\n",
       "      <td>1.0</td>\n",
       "      <td>0.0</td>\n",
       "    </tr>\n",
       "    <tr>\n",
       "      <th>645</th>\n",
       "      <td>3225</td>\n",
       "      <td>2023-01-02</td>\n",
       "      <td>23.540001</td>\n",
       "      <td>23.809999</td>\n",
       "      <td>22.799999</td>\n",
       "      <td>22.920000</td>\n",
       "      <td>22.920000</td>\n",
       "      <td>78424700</td>\n",
       "      <td>Monday</td>\n",
       "      <td>0.0</td>\n",
       "      <td>-1.0</td>\n",
       "    </tr>\n",
       "    <tr>\n",
       "      <th>646</th>\n",
       "      <td>3230</td>\n",
       "      <td>2023-01-09</td>\n",
       "      <td>23.500000</td>\n",
       "      <td>24.000000</td>\n",
       "      <td>23.250000</td>\n",
       "      <td>23.870001</td>\n",
       "      <td>23.870001</td>\n",
       "      <td>46385200</td>\n",
       "      <td>Monday</td>\n",
       "      <td>1.0</td>\n",
       "      <td>0.0</td>\n",
       "    </tr>\n",
       "  </tbody>\n",
       "</table>\n",
       "</div>"
      ],
      "text/plain": [
       "     Unnamed: 0        Date       Open       High        Low      Close  \\\n",
       "642        3211  2022-12-12  24.580000  24.660000  23.129999  23.910000   \n",
       "643        3216  2022-12-19  22.100000  22.510000  21.639999  22.379999   \n",
       "644        3221  2022-12-26  25.120001  25.299999  24.820000  24.940001   \n",
       "645        3225  2023-01-02  23.540001  23.809999  22.799999  22.920000   \n",
       "646        3230  2023-01-09  23.500000  24.000000  23.250000  23.870001   \n",
       "\n",
       "     Adj Close     Volume  SEMANA  Sinal de Compra  Sinal de Venda  \n",
       "642  23.910000  111293100  Monday              0.0            -1.0  \n",
       "643  22.379999   63074100  Monday              0.0            -1.0  \n",
       "644  24.940001   28765200  Monday              1.0             0.0  \n",
       "645  22.920000   78424700  Monday              0.0            -1.0  \n",
       "646  23.870001   46385200  Monday              1.0             0.0  "
      ]
     },
     "execution_count": 5,
     "metadata": {},
     "output_type": "execute_result"
    }
   ],
   "source": [
    "data.tail(5)"
   ]
  },
  {
   "cell_type": "code",
   "execution_count": 6,
   "id": "5a69fd59",
   "metadata": {},
   "outputs": [
    {
     "name": "stdout",
     "output_type": "stream",
     "text": [
      "Ganho projetado: 224.00%\n"
     ]
    }
   ],
   "source": [
    "data['buyqty'] = np.where((data['Low'] < data['Close'].shift(+1)), (data['Close']-data['Close'].shift(+1))*data['Sinal de Compra'], 0.0) \n",
    "\n",
    "data['sellqty'] = np.where((data['High'] > data['Close'].shift(+1)), (data['Close'].shift(+1) - data['Close'])*(data['Sinal de Venda']*-1), 0.0)\n",
    "\n",
    "data['profit'] = data['buyqty'] + data['sellqty']\n",
    "Totalprofit = data[data[\"Date\"] > \"2022-01-01\"]['profit'].sum()\n",
    "print(\"Ganho projetado: {:.2f}%\".format(Totalprofit*100))"
   ]
  },
  {
   "cell_type": "code",
   "execution_count": 16,
   "id": "2d562514",
   "metadata": {},
   "outputs": [
    {
     "data": {
      "text/html": [
       "<div>\n",
       "<style scoped>\n",
       "    .dataframe tbody tr th:only-of-type {\n",
       "        vertical-align: middle;\n",
       "    }\n",
       "\n",
       "    .dataframe tbody tr th {\n",
       "        vertical-align: top;\n",
       "    }\n",
       "\n",
       "    .dataframe thead th {\n",
       "        text-align: right;\n",
       "    }\n",
       "</style>\n",
       "<table border=\"1\" class=\"dataframe\">\n",
       "  <thead>\n",
       "    <tr style=\"text-align: right;\">\n",
       "      <th></th>\n",
       "      <th>Unnamed: 0</th>\n",
       "      <th>Date</th>\n",
       "      <th>Open</th>\n",
       "      <th>High</th>\n",
       "      <th>Low</th>\n",
       "      <th>Close</th>\n",
       "      <th>Adj Close</th>\n",
       "      <th>Volume</th>\n",
       "      <th>SEMANA</th>\n",
       "      <th>Sinal de Compra</th>\n",
       "      <th>Sinal de Venda</th>\n",
       "      <th>buyqty</th>\n",
       "      <th>sellqty</th>\n",
       "      <th>profit</th>\n",
       "    </tr>\n",
       "  </thead>\n",
       "  <tbody>\n",
       "    <tr>\n",
       "      <th>0</th>\n",
       "      <td>0</td>\n",
       "      <td>2010-01-04</td>\n",
       "      <td>36.950001</td>\n",
       "      <td>37.32</td>\n",
       "      <td>36.820000</td>\n",
       "      <td>37.320000</td>\n",
       "      <td>13.817431</td>\n",
       "      <td>13303600</td>\n",
       "      <td>Monday</td>\n",
       "      <td>0.0</td>\n",
       "      <td>0.0</td>\n",
       "      <td>0.0</td>\n",
       "      <td>0.000000</td>\n",
       "      <td>0.000000</td>\n",
       "    </tr>\n",
       "    <tr>\n",
       "      <th>1</th>\n",
       "      <td>5</td>\n",
       "      <td>2010-01-11</td>\n",
       "      <td>37.209999</td>\n",
       "      <td>37.34</td>\n",
       "      <td>36.619999</td>\n",
       "      <td>36.830002</td>\n",
       "      <td>13.636016</td>\n",
       "      <td>15317700</td>\n",
       "      <td>Monday</td>\n",
       "      <td>0.0</td>\n",
       "      <td>-1.0</td>\n",
       "      <td>-0.0</td>\n",
       "      <td>0.489998</td>\n",
       "      <td>0.489998</td>\n",
       "    </tr>\n",
       "  </tbody>\n",
       "</table>\n",
       "</div>"
      ],
      "text/plain": [
       "   Unnamed: 0        Date       Open   High        Low      Close  Adj Close  \\\n",
       "0           0  2010-01-04  36.950001  37.32  36.820000  37.320000  13.817431   \n",
       "1           5  2010-01-11  37.209999  37.34  36.619999  36.830002  13.636016   \n",
       "\n",
       "     Volume  SEMANA  Sinal de Compra  Sinal de Venda  buyqty   sellqty  \\\n",
       "0  13303600  Monday              0.0             0.0     0.0  0.000000   \n",
       "1  15317700  Monday              0.0            -1.0    -0.0  0.489998   \n",
       "\n",
       "     profit  \n",
       "0  0.000000  \n",
       "1  0.489998  "
      ]
     },
     "execution_count": 16,
     "metadata": {},
     "output_type": "execute_result"
    }
   ],
   "source": [
    "data.head(2)"
   ]
  },
  {
   "cell_type": "code",
   "execution_count": 7,
   "id": "c570c6b8",
   "metadata": {},
   "outputs": [
    {
     "name": "stdout",
     "output_type": "stream",
     "text": [
      "Capital no final do mês é: R$ 2,240.00\n"
     ]
    }
   ],
   "source": [
    "capital_incial = 1000\n",
    "ganhos = capital_incial * (Totalprofit)\n",
    "print(\"Capital no final do mês é: R$ {:,.2f}\".format(ganhos))"
   ]
  },
  {
   "cell_type": "raw",
   "id": "b4fa133b",
   "metadata": {},
   "source": [
    "# Calculo da Var de um dia pro outro\n",
    "data[\"Var\"] = data[\"Close\"].pct_change()\n",
    "data"
   ]
  },
  {
   "cell_type": "code",
   "execution_count": 9,
   "id": "d08763c6",
   "metadata": {},
   "outputs": [
    {
     "data": {
      "text/plain": [
       "[<matplotlib.lines.Line2D at 0x7f73a6f9cc10>]"
      ]
     },
     "execution_count": 9,
     "metadata": {},
     "output_type": "execute_result"
    },
    {
     "data": {
      "image/png": "[encoded data removed]",
      "text/plain": [
       "<Figure size 640x480 with 1 Axes>"
      ]
     },
     "metadata": {},
     "output_type": "display_data"
    }
   ],
   "source": [
    "plt.plot(novo[\"profit\"]*capital_incial)"
   ]
  },
  {
   "cell_type": "code",
   "execution_count": 13,
   "id": "e7efd294",
   "metadata": {},
   "outputs": [],
   "source": [
    "series = pd.Series(data[\"profit\"]*capital_incial)"
   ]
  },
  {
   "cell_type": "code",
   "execution_count": 14,
   "id": "97c20011",
   "metadata": {},
   "outputs": [],
   "source": [
    "cumsum = series.cumsum()"
   ]
  },
  {
   "cell_type": "code",
   "execution_count": 15,
   "id": "89e17165",
   "metadata": {},
   "outputs": [
    {
     "data": {
      "text/plain": [
       "[<matplotlib.lines.Line2D at 0x7f73a4d24be0>]"
      ]
     },
     "execution_count": 15,
     "metadata": {},
     "output_type": "execute_result"
    },
    {
     "data": {
      "image/png": "[encoded data removed]",
      "text/plain": [
       "<Figure size 640x480 with 1 Axes>"
      ]
     },
     "metadata": {},
     "output_type": "display_data"
    }
   ],
   "source": [
    "cumsum\n",
    "plt.plot(cumsum)"
   ]
  },
  {
   "cell_type": "code",
   "execution_count": null,
   "id": "509394b9",
   "metadata": {},
   "outputs": [],
   "source": []
  },
  {
   "cell_type": "code",
   "execution_count": null,
   "id": "1a0782b5",
   "metadata": {},
   "outputs": [],
   "source": []
  },
  {
   "cell_type": "code",
   "execution_count": null,
   "id": "3164d6cf",
   "metadata": {},
   "outputs": [],
   "source": []
  }
 ],
 "metadata": {
  "kernelspec": {
   "display_name": "Python 3 (ipykernel)",
   "language": "python",
   "name": "python3"
  },
  "language_info": {
   "codemirror_mode": {
    "name": "ipython",
    "version": 3
   },
   "file_extension": ".py",
   "mimetype": "text/x-python",
   "name": "python",
   "nbconvert_exporter": "python",
   "pygments_lexer": "ipython3",
   "version": "3.10.6"
  }
 },
 "nbformat": 4,
 "nbformat_minor": 5
}
